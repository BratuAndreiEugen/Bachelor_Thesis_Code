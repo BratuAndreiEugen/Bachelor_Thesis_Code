{
 "cells": [
  {
   "cell_type": "code",
   "execution_count": 6,
   "metadata": {
    "collapsed": true
   },
   "outputs": [],
   "source": [
    "import joblib\n",
    "\n",
    "model = joblib.load(\"instrument_models/irmas_models/philarmonia_svm.joblib\")\n",
    "scaler = joblib.load(\"scalers/irmas/irmas_skl_scaler.joblib\")\n",
    "step = 3"
   ]
  },
  {
   "cell_type": "code",
   "execution_count": 7,
   "outputs": [
    {
     "name": "stdout",
     "output_type": "stream",
     "text": [
      "[[0.1521798, 0.07455731, 0.04924868, 0.00024468545, 1704.8346926339095, 247266.4543408468, 1451.7213253229256, 160991.73195500424, 3025.497859074519, 799613.2555511929, 0.06964017427884615, 0.00035348769475722456, 0.14506799, 0.062288612, 99.38401442307692, -333.9012, 8703.718, 60.987576, 2357.823, -75.759155, 509.07043, 16.74864, 259.85217, -30.370146, 116.27213, -20.952623, 100.50312, -20.472227, 75.819756, -7.604331, 24.041927, -27.201914, 29.917437, -8.907523, 86.37813, -0.6504025, 45.92792, -0.6932059, 12.757467, -7.347678, 30.191278, -13.140691, 25.12455, -13.337104, 17.691326, -6.3906107, 8.646519, -12.271732, 13.769723, -13.311524, 29.056303, -11.842467, 9.793382, -17.895346, 24.411005], [0.18558197, 0.076147996, 0.042374875, 0.00021737043, 1720.5555819427993, 322554.0979647633, 1418.1867938208152, 174596.2811961664, 2990.547814002404, 915246.38928637, 0.08450646033653846, 0.0012419157338565624, 0.14651425, 0.061866917, 33.99979440789474, -334.57965, 9516.281, 70.629585, 2279.6394, -81.414185, 564.2385, 21.098621, 384.17535, -21.801006, 171.10559, -15.300177, 213.52602, -15.833182, 84.19708, -6.9910264, 20.382427, -25.72475, 40.132576, -8.323147, 87.41229, -1.096521, 38.762863, 0.476066, 24.827614, -6.854458, 21.979752, -8.642965, 11.609672, -9.616106, 13.95993, -6.0332527, 7.5719867, -15.225739, 17.259483, -14.156779, 19.006199, -18.076426, 78.617744, -18.604101, 24.585619], [0.24299501, 0.07736985, 0.030060582, 0.00028347626, 1921.5840604779619, 500063.8963621846, 1511.673744694137, 178500.41883103197, 3250.022911658654, 1239858.936876094, 0.11050180288461539, 0.0018754403266681016, 0.19022386, 0.04714822, 198.76802884615384, -347.07025, 20748.25, 67.47629, 2234.628, -78.30987, 1053.3035, 26.628937, 85.81643, -5.426499, 274.15552, -2.1553578, 77.77857, -14.2341385, 143.41885, -7.5439525, 34.30449, -27.275324, 70.69584, -1.6188145, 51.32775, 3.4082437, 54.42711, 5.093807, 30.436474, -10.727052, 37.450108, -10.446729, 19.059387, -11.544848, 39.721752, -8.342824, 16.387367, -15.842113, 22.187275, -6.973634, 30.36656, -17.278944, 31.443262, -18.423592, 20.963531], [0.16549283, 0.07501855, 0.044762015, 0.00023347758, 1613.6824520635469, 264931.53113758576, 1333.905533559211, 150813.25149107128, 2831.6162109375, 761251.8638739219, 0.07309945913461538, 0.0007720523473073744, 0.15804061, 0.058356494, 99.38401442307692, -334.8551, 9465.06, 85.49841, 1852.1289, -86.598305, 646.83905, 17.824293, 310.28516, -23.214434, 163.10628, -16.763863, 206.55576, -18.153286, 64.88566, -9.324818, 72.84079, -27.614721, 33.10336, -11.519097, 83.69548, -0.6798006, 35.13696, 1.068172, 29.023327, -7.087664, 30.602896, -13.419458, 51.195004, -14.734054, 28.722546, -7.688312, 20.057455, -13.888961, 14.121223, -13.684958, 40.757748, -13.151221, 16.982235, -18.315268, 27.923494], [0.17359829, 0.0748059, 0.047160283, 0.00019380962, 1804.7922199758127, 366059.5622536008, 1515.7587306959886, 216030.89478540717, 3146.746356670673, 1110467.6358130202, 0.0818359375, 0.0010798439612755408, 0.14989145, 0.06086589, 99.38401442307692, -323.75235, 9309.546, 57.540497, 2749.8613, -71.18675, 501.53543, 18.009392, 293.54144, -26.65381, 151.35135, -18.658207, 134.08304, -18.22192, 64.60123, -7.1242843, 22.45593, -26.955336, 30.334642, -8.165385, 90.98333, -1.401356, 29.030354, -0.19934542, 18.82608, -7.427839, 31.157072, -10.249359, 19.87407, -11.317505, 16.73218, -6.1031933, 8.208456, -14.658259, 25.550646, -13.682321, 24.82651, -15.46779, 60.1523, -18.380991, 20.518356], [0.22315548, 0.08466971, 0.019533165, 0.00028380533, 1481.6636231117432, 343835.7810739254, 1429.764624759026, 227684.5609598188, 2591.438176081731, 1020895.6877070771, 0.0763671875, 0.0011303006685697114, 0.16703132, 0.05543387, 161.4990234375, -495.83047, 34275.92, 76.67594, 1955.533, -51.266983, 2177.2915, 24.194927, 332.17105, 1.3733108, 236.05069, -3.3987577, 74.63414, -7.6953464, 98.81839, -8.890768, 40.81516, -20.10445, 57.02342, -0.74582404, 34.899414, 5.7853575, 45.698235, 0.43001023, 36.50903, -13.966447, 29.316353, -11.226495, 18.230911, -8.252571, 27.254883, -8.220032, 21.257193, -13.134863, 32.535748, -8.806861, 18.079395, -18.057907, 34.08396, -16.970085, 25.953989]]\n",
      "[1 1 1 1 1 8]\n"
     ]
    }
   ],
   "source": [
    "import numpy as np\n",
    "import librosa\n",
    "\n",
    "audio, sr = librosa.load(\"wavfiles/sax_1.wav\", sr=22050)\n",
    "\n",
    "X_file = []\n",
    "for index in range(0, len(audio) - step * sr, step * sr):\n",
    "    sample = audio[index:index + step * sr]\n",
    "\n",
    "    chroma_stft = librosa.feature.chroma_stft(y=sample, sr=sr)\n",
    "    rms = librosa.feature.rms(y=sample)\n",
    "    spectral_centroids = librosa.feature.spectral_centroid(y=sample, sr=sr)\n",
    "    spectral_bandwidths = librosa.feature.spectral_bandwidth(y=sample, sr=sr)\n",
    "    spectral_rolloff = librosa.feature.spectral_rolloff(y=sample, sr=sr)\n",
    "    zero_crossing_rates = librosa.feature.zero_crossing_rate(y=sample)\n",
    "    chroma_cens = librosa.feature.chroma_cens(y=sample, sr=sr)\n",
    "    tempo, _ = librosa.beat.beat_track(y=sample, sr=sr)\n",
    "    mfccs = librosa.feature.mfcc(y=sample, sr=sr)\n",
    "\n",
    "    sample_features = []\n",
    "    sample_features.append(np.mean(chroma_stft))\n",
    "    sample_features.append(np.var(chroma_stft))\n",
    "    sample_features.append(np.mean(rms))\n",
    "    sample_features.append(np.var(rms))\n",
    "    sample_features.append(np.mean(spectral_centroids))\n",
    "    sample_features.append(np.var(spectral_centroids))\n",
    "    sample_features.append(np.mean(spectral_bandwidths))\n",
    "    sample_features.append(np.var(spectral_bandwidths))\n",
    "    sample_features.append(np.mean(spectral_rolloff))\n",
    "    sample_features.append(np.var(spectral_rolloff))\n",
    "    sample_features.append(np.mean(zero_crossing_rates))\n",
    "    sample_features.append(np.var(zero_crossing_rates))\n",
    "    sample_features.append(np.mean(chroma_cens))\n",
    "    sample_features.append(np.var(chroma_cens))\n",
    "    sample_features.append(tempo)\n",
    "    for i, mfcc_column in zip(range(20), mfccs):\n",
    "        sample_features.append(np.mean(mfcc_column))\n",
    "        sample_features.append(np.var(mfcc_column))\n",
    "\n",
    "    X_file.append(sample_features)\n",
    "\n",
    "print(X_file)\n",
    "\n",
    "\n",
    "X_file = np.array(X_file)\n",
    "X_file_irmas = scaler.transform(X_file)\n",
    "\n",
    "preds = model.predict(X_file_irmas)\n",
    "print(preds)"
   ],
   "metadata": {
    "collapsed": false
   }
  },
  {
   "cell_type": "code",
   "execution_count": 8,
   "outputs": [
    {
     "name": "stdout",
     "output_type": "stream",
     "text": [
      "[14 14 15 14 14 15]\n"
     ]
    },
    {
     "name": "stderr",
     "output_type": "stream",
     "text": [
      "C:\\Proiecte SSD\\Licenta\\Basic-Fourier-Usage\\venv\\lib\\site-packages\\sklearn\\base.py:493: UserWarning: X does not have valid feature names, but StandardScaler was fitted with feature names\n",
      "  warnings.warn(\n"
     ]
    }
   ],
   "source": [
    "model = joblib.load(\"instrument_models/philarmonia_models/philarmonia_svm.joblib\")\n",
    "scaler = joblib.load(\"scalers/philarmonia/philarmonia_skl_scaler.joblib\")\n",
    "step = 3\n",
    "\n",
    "X_file_phil = scaler.transform(X_file)\n",
    "\n",
    "preds = model.predict(X_file_phil)\n",
    "print(preds)"
   ],
   "metadata": {
    "collapsed": false
   }
  },
  {
   "cell_type": "code",
   "execution_count": 9,
   "outputs": [
    {
     "name": "stdout",
     "output_type": "stream",
     "text": [
      "[7 7 9 7 7 2]\n"
     ]
    },
    {
     "name": "stderr",
     "output_type": "stream",
     "text": [
      "C:\\Proiecte SSD\\Licenta\\Basic-Fourier-Usage\\venv\\lib\\site-packages\\sklearn\\base.py:493: UserWarning: X does not have valid feature names, but StandardScaler was fitted with feature names\n",
      "  warnings.warn(\n"
     ]
    }
   ],
   "source": [
    "model = joblib.load(\"instrument_models/kaggle_models/kaggle_svm.joblib\")\n",
    "scaler = joblib.load(\"scalers/kaggle/kaggle_skl_scaler.joblib\")\n",
    "step = 3\n",
    "\n",
    "X_file_kag = scaler.transform(X_file)\n",
    "\n",
    "preds = model.predict(X_file_kag)\n",
    "print(preds)"
   ],
   "metadata": {
    "collapsed": false
   }
  },
  {
   "cell_type": "code",
   "execution_count": 10,
   "outputs": [
    {
     "name": "stdout",
     "output_type": "stream",
     "text": [
      "[1 1 1 1 1 1]\n"
     ]
    },
    {
     "name": "stderr",
     "output_type": "stream",
     "text": [
      "C:\\Proiecte SSD\\Licenta\\Basic-Fourier-Usage\\venv\\lib\\site-packages\\sklearn\\base.py:493: UserWarning: X does not have valid feature names, but StandardScaler was fitted with feature names\n",
      "  warnings.warn(\n"
     ]
    }
   ],
   "source": [
    "model = joblib.load(\"genre_models/gtzan_models/gtzan_svm.joblib\")\n",
    "scaler = joblib.load(\"scalers/gtzan/gtzan_skl_scaler.joblib\")\n",
    "step = 3\n",
    "\n",
    "X_file_gt = scaler.transform(X_file)\n",
    "\n",
    "preds = model.predict(X_file_gt)\n",
    "print(preds)"
   ],
   "metadata": {
    "collapsed": false
   }
  }
 ],
 "metadata": {
  "kernelspec": {
   "display_name": "Python 3",
   "language": "python",
   "name": "python3"
  },
  "language_info": {
   "codemirror_mode": {
    "name": "ipython",
    "version": 2
   },
   "file_extension": ".py",
   "mimetype": "text/x-python",
   "name": "python",
   "nbconvert_exporter": "python",
   "pygments_lexer": "ipython2",
   "version": "2.7.6"
  }
 },
 "nbformat": 4,
 "nbformat_minor": 0
}
