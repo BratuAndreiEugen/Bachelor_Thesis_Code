{
 "cells": [
  {
   "cell_type": "code",
   "execution_count": 10,
   "metadata": {
    "collapsed": true
   },
   "outputs": [
    {
     "name": "stdout",
     "output_type": "stream",
     "text": [
      "RMSE shape :  (1, 130)\n",
      "Spectral centroid shape :  (1, 130)\n",
      "Spectral bandwidth shape :  (1, 130)\n",
      "Spectral rolloff shape :  (1, 130)\n",
      "Zero crossing rate shape :  (1, 130)\n",
      "Librosa default MFCC shape :  (40, 130)\n"
     ]
    }
   ],
   "source": [
    "import librosa\n",
    "import librosa.display\n",
    "import numpy as np\n",
    "import pandas as pd\n",
    "import python_speech_features\n",
    "\n",
    "from utils.instrument_data import DataPreprocessor\n",
    "\n",
    "\n",
    "def envelope(y, rate, threshold, window_size = 1/10):\n",
    "    mask = []\n",
    "    y = pd.Series(y).apply(np.abs)\n",
    "    y_mean = y.rolling(window=int(rate * window_size), min_periods=1, center=True).mean()  # window_size = 1/10th of a second ( default )\n",
    "    for mean in y_mean:\n",
    "        if mean > threshold:\n",
    "            mask.append(True)\n",
    "        else:\n",
    "            mask.append(False)\n",
    "    return mask\n",
    "\n",
    "# Define parameters\n",
    "signal, rate = librosa.load(\"wavfiles/juice_wrld_guitar.wav\", duration=3)  # Your audio signal\n",
    "rate = 22050  # Sampling rate\n",
    "frame_size_sec = 0.092  # Frame size in seconds\n",
    "frame_shift_sec = 0.023  # Frame shift in seconds\n",
    "num_mfcc = 13  # Number of MFCC coefficients\n",
    "\n",
    "\n",
    "mask = envelope(signal, rate, threshold=0.005, window_size=1/10)\n",
    "signal = signal[mask]\n",
    "signal = signal[:3*rate]\n",
    "\n",
    "rmse_metric_x = librosa.feature.rms(y=signal)\n",
    "spectral_centroid_x = librosa.feature.spectral_centroid(y=signal, sr=rate)\n",
    "spectral_bandwidth_x = librosa.feature.spectral_bandwidth(y=signal, sr=rate)\n",
    "spectral_rolloff_x = librosa.feature.spectral_rolloff(y=signal, sr=rate)\n",
    "zero_crossing_rate_x = librosa.feature.zero_crossing_rate(y=signal)\n",
    "librosa_default_mfccs_x = librosa.feature.mfcc(y=signal, sr=rate, n_mfcc=40)\n",
    "\n",
    "# print(rmse_metric_x)\n",
    "print(\"RMSE shape : \", rmse_metric_x.shape)\n",
    "# print(spectral_centroid_x)\n",
    "print(\"Spectral centroid shape : \", spectral_centroid_x.shape)\n",
    "# print(spectral_bandwidth_x)\n",
    "print(\"Spectral bandwidth shape : \", spectral_bandwidth_x.shape)\n",
    "# print(spectral_rolloff_x)\n",
    "print(\"Spectral rolloff shape : \", spectral_rolloff_x.shape)\n",
    "# print(zero_crossing_rate_x)\n",
    "print(\"Zero crossing rate shape : \", zero_crossing_rate_x.shape)\n",
    "# print(librosa_default_mfccs_x)\n",
    "print(\"Librosa default MFCC shape : \", librosa_default_mfccs_x.shape)\n",
    "\n",
    "# Calculate frame size and hop length in samples\n",
    "frame_size = int(frame_size_sec * rate)\n",
    "frame_shift = int(frame_shift_sec * rate)\n",
    "\n",
    "# Calculate MFCCs using librosa\n",
    "mel_lib = librosa.feature.mfcc(y=signal, sr=rate, n_mfcc=num_mfcc)\n",
    "\n",
    "# Calculate MFCCs using python_speech_features\n",
    "mel = python_speech_features.mfcc(signal, rate, winlen=frame_size_sec, winstep=frame_shift_sec, numcep=num_mfcc, nfilt=26, nfft=512).T\n",
    "\n",
    "# Output shapes\n",
    "print(\"Shape from librosa:\", mel_lib.shape)\n",
    "print(\"Shape from python_speech_features:\", mel.shape)\n",
    "\n",
    "print(list(zero_crossing_rate_x.flatten()))"
   ]
  },
  {
   "cell_type": "code",
   "execution_count": 11,
   "outputs": [
    {
     "name": "stdout",
     "output_type": "stream",
     "text": [
      "Num GPUs Available:  0\n"
     ]
    }
   ],
   "source": [
    "import tensorflow as tf\n",
    "print(\"Num GPUs Available: \", len(tf.config.experimental.list_physical_devices('GPU')))"
   ],
   "metadata": {
    "collapsed": false
   }
  },
  {
   "cell_type": "code",
   "execution_count": 12,
   "outputs": [
    {
     "name": "stdout",
     "output_type": "stream",
     "text": [
      "(1, 2, 3)\n",
      "(3, 2, 1)\n"
     ]
    }
   ],
   "source": [
    "arr = [\n",
    "    [[1,2,3],\n",
    "     [1,2,3]]\n",
    "]\n",
    "in_arr = np.array(arr)\n",
    "print(in_arr.shape)\n",
    "arr = np.array(arr).T\n",
    "print(arr.shape)"
   ],
   "metadata": {
    "collapsed": false
   }
  },
  {
   "cell_type": "code",
   "execution_count": 2,
   "outputs": [
    {
     "name": "stdout",
     "output_type": "stream",
     "text": [
      "22050\n",
      "[-1.0186341e-10  5.0931703e-11 -2.9103830e-11 ...  0.0000000e+00\n",
      "  0.0000000e+00  0.0000000e+00]\n"
     ]
    }
   ],
   "source": [
    "from scipy.io import wavfile\n",
    "\n",
    "rate, sig = wavfile.read(\"D:\\LICENTA\\Philarmonia_equalised\\percussion\\\\banana-shaker__long_forte_shaken.mp3\")\n",
    "print(rate)\n",
    "print(sig)"
   ],
   "metadata": {
    "collapsed": false
   }
  },
  {
   "cell_type": "code",
   "execution_count": 4,
   "outputs": [
    {
     "name": "stdout",
     "output_type": "stream",
     "text": [
      "22050\n",
      "[  240   544   250 ... -1822 -2001 -2103]\n"
     ]
    }
   ],
   "source": [
    "rate, sig = wavfile.read(\"D:\\LICENTA\\marsyas_gtzan_genres\\\\genres_original\\\\blues\\\\blues_00000.wav\")\n",
    "print(rate)\n",
    "print(sig)"
   ],
   "metadata": {
    "collapsed": false
   }
  },
  {
   "cell_type": "code",
   "execution_count": 16,
   "outputs": [
    {
     "name": "stdout",
     "output_type": "stream",
     "text": [
      "{'algorithm': 'auto',\n",
      " 'leaf_size': 30,\n",
      " 'metric': 'minkowski',\n",
      " 'metric_params': None,\n",
      " 'n_jobs': None,\n",
      " 'n_neighbors': 5,\n",
      " 'p': 1,\n",
      " 'weights': 'distance'}\n"
     ]
    }
   ],
   "source": [
    "import joblib\n",
    "from pprint import pprint\n",
    "\n",
    "# Load the saved Random Forest model\n",
    "best_rf = joblib.load(\"genre_models/gtzan_models/gtzan_knn.joblib\")\n",
    "\n",
    "# Retrieve the parameters of the best estimator\n",
    "best_params = best_rf.get_params()\n",
    "\n",
    "# Print the parameters in a nicely formatted way\n",
    "pprint(best_params)"
   ],
   "metadata": {
    "collapsed": false
   }
  }
 ],
 "metadata": {
  "kernelspec": {
   "display_name": "Python 3",
   "language": "python",
   "name": "python3"
  },
  "language_info": {
   "codemirror_mode": {
    "name": "ipython",
    "version": 2
   },
   "file_extension": ".py",
   "mimetype": "text/x-python",
   "name": "python",
   "nbconvert_exporter": "python",
   "pygments_lexer": "ipython2",
   "version": "2.7.6"
  }
 },
 "nbformat": 4,
 "nbformat_minor": 0
}
