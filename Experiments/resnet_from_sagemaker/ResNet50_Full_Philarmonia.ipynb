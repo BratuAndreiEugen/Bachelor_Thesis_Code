{
 "cells": [
  {
   "cell_type": "code",
   "execution_count": 1,
   "id": "bb066a7d-eba3-48e3-a2bd-58ee2ca409c5",
   "metadata": {},
   "outputs": [
    {
     "name": "stdout",
     "output_type": "stream",
     "text": [
      "Requirement already satisfied: opencv-python-headless in /opt/conda/lib/python3.10/site-packages (4.9.0.80)\n",
      "Requirement already satisfied: numpy>=1.21.2 in /opt/conda/lib/python3.10/site-packages (from opencv-python-headless) (1.26.4)\n"
     ]
    }
   ],
   "source": [
    "!pip install opencv-python-headless"
   ]
  },
  {
   "cell_type": "code",
   "execution_count": 2,
   "id": "fc8d82be-0425-421f-b7fc-eb412603e4cd",
   "metadata": {},
   "outputs": [
    {
     "name": "stderr",
     "output_type": "stream",
     "text": [
      "2024-05-31 23:07:59.815267: I tensorflow/core/platform/cpu_feature_guard.cc:182] This TensorFlow binary is optimized to use available CPU instructions in performance-critical operations.\n",
      "To enable the following instructions: SSE4.1 SSE4.2 AVX AVX2 AVX512F FMA, in other operations, rebuild TensorFlow with the appropriate compiler flags.\n"
     ]
    }
   ],
   "source": [
    "import cv2\n",
    "import numpy as np\n",
    "import pandas as pd\n",
    "import tensorflow as tf\n",
    "from tensorflow.keras import models, layers\n",
    "from tensorflow.keras.applications import ResNet50\n",
    "from tensorflow.keras.optimizers import Adam\n",
    "from tqdm import tqdm\n",
    "from sklearn.preprocessing import LabelEncoder\n",
    "from sklearn.model_selection import train_test_split\n",
    "import os"
   ]
  },
  {
   "cell_type": "code",
   "execution_count": 3,
   "id": "ba3099d7-abd6-4262-b441-6f1c0e8b7fe1",
   "metadata": {},
   "outputs": [],
   "source": [
    "def read_image(file_path):\n",
    "    rgb_image = cv2.imread(file_path)\n",
    "    return rgb_image"
   ]
  },
  {
   "cell_type": "code",
   "execution_count": 4,
   "id": "e7560e2e-fa39-435b-baa4-92364faf89b7",
   "metadata": {},
   "outputs": [
    {
     "name": "stderr",
     "output_type": "stream",
     "text": [
      "12180it [00:15, 759.81it/s][ WARN:0@20.006] global loadsave.cpp:248 findDecoder imread_('Philarmonia/violin/violin_A3_1_forte_arco-normal.jpg'): can't open/read file: check file path/integrity\n",
      "12332it [00:16, 735.81it/s]"
     ]
    },
    {
     "name": "stdout",
     "output_type": "stream",
     "text": [
      "File error\n"
     ]
    },
    {
     "name": "stderr",
     "output_type": "stream",
     "text": [
      "13476it [00:17, 715.00it/s][ WARN:0@21.896] global loadsave.cpp:248 findDecoder imread_('Philarmonia/violin/violin_Gs3_025_pianissimo_arco-normal.jpg'): can't open/read file: check file path/integrity\n",
      "[ WARN:0@21.896] global loadsave.cpp:248 findDecoder imread_('Philarmonia/violin/violin_Gs3_025_piano_arco-col-legno-battuto.jpg'): can't open/read file: check file path/integrity\n",
      "[ WARN:0@21.897] global loadsave.cpp:248 findDecoder imread_('Philarmonia/violin/violin_Gs3_025_piano_arco-normal.jpg'): can't open/read file: check file path/integrity\n",
      "[ WARN:0@21.897] global loadsave.cpp:248 findDecoder imread_('Philarmonia/violin/violin_Gs3_025_piano_pizz-normal.jpg'): can't open/read file: check file path/integrity\n",
      "13558it [00:17, 743.48it/s][ WARN:0@21.926] global loadsave.cpp:248 findDecoder imread_('Philarmonia/violin/violin_Gs3_phrase_forte_arco-martele.jpg'): can't open/read file: check file path/integrity\n",
      "[ WARN:0@21.926] global loadsave.cpp:248 findDecoder imread_('Philarmonia/violin/violin_Gs3_phrase_forte_arco-spiccato.jpg'): can't open/read file: check file path/integrity\n",
      "[ WARN:0@21.926] global loadsave.cpp:248 findDecoder imread_('Philarmonia/violin/violin_Gs3_phrase_fortissimo_arco-au-talon.jpg'): can't open/read file: check file path/integrity\n",
      "[ WARN:0@21.927] global loadsave.cpp:248 findDecoder imread_('Philarmonia/violin/violin_Gs3_phrase_mezzo-forte_arco-detache.jpg'): can't open/read file: check file path/integrity\n",
      "[ WARN:0@21.927] global loadsave.cpp:248 findDecoder imread_('Philarmonia/violin/violin_Gs3_phrase_mezzo-forte_arco-glissando.jpg'): can't open/read file: check file path/integrity\n",
      "[ WARN:0@21.927] global loadsave.cpp:248 findDecoder imread_('Philarmonia/violin/violin_Gs3_phrase_mezzo-forte_arco-tenuto.jpg'): can't open/read file: check file path/integrity\n",
      "[ WARN:0@21.927] global loadsave.cpp:248 findDecoder imread_('Philarmonia/violin/violin_Gs3_phrase_mezzo-piano_arco-detache.jpg'): can't open/read file: check file path/integrity\n",
      "[ WARN:0@21.928] global loadsave.cpp:248 findDecoder imread_('Philarmonia/violin/violin_Gs3_phrase_mezzo-piano_arco-legato.jpg'): can't open/read file: check file path/integrity\n",
      "[ WARN:0@21.928] global loadsave.cpp:248 findDecoder imread_('Philarmonia/violin/violin_Gs3_phrase_mezzo-piano_arco-major-trill.jpg'): can't open/read file: check file path/integrity\n",
      "[ WARN:0@21.928] global loadsave.cpp:248 findDecoder imread_('Philarmonia/violin/violin_Gs3_phrase_mezzo-piano_arco-tremolo.jpg'): can't open/read file: check file path/integrity\n",
      "[ WARN:0@21.928] global loadsave.cpp:248 findDecoder imread_('Philarmonia/violin/violin_Gs4_025_forte_arco-normal.jpg'): can't open/read file: check file path/integrity\n",
      "[ WARN:0@21.928] global loadsave.cpp:248 findDecoder imread_('Philarmonia/violin/violin_Gs4_025_fortissimo_arco-normal.jpg'): can't open/read file: check file path/integrity\n",
      "[ WARN:0@21.929] global loadsave.cpp:248 findDecoder imread_('Philarmonia/violin/violin_Gs4_025_mezzo-forte_arco-normal.jpg'): can't open/read file: check file path/integrity\n",
      "[ WARN:0@21.929] global loadsave.cpp:248 findDecoder imread_('Philarmonia/violin/violin_Gs4_025_mezzo-piano_arco-normal.jpg'): can't open/read file: check file path/integrity\n",
      "[ WARN:0@21.929] global loadsave.cpp:248 findDecoder imread_('Philarmonia/violin/violin_Gs4_025_pianissimo_arco-normal.jpg'): can't open/read file: check file path/integrity\n",
      "[ WARN:0@21.929] global loadsave.cpp:248 findDecoder imread_('Philarmonia/violin/violin_Gs4_025_piano_arco-normal.jpg'): can't open/read file: check file path/integrity\n",
      "[ WARN:0@21.929] global loadsave.cpp:248 findDecoder imread_('Philarmonia/violin/violin_Gs4_05_forte_arco-normal.jpg'): can't open/read file: check file path/integrity\n",
      "[ WARN:0@21.929] global loadsave.cpp:248 findDecoder imread_('Philarmonia/violin/violin_Gs4_05_fortissimo_arco-au-talon.jpg'): can't open/read file: check file path/integrity\n",
      "[ WARN:0@21.929] global loadsave.cpp:248 findDecoder imread_('Philarmonia/violin/violin_Gs4_05_fortissimo_arco-normal.jpg'): can't open/read file: check file path/integrity\n",
      "[ WARN:0@21.930] global loadsave.cpp:248 findDecoder imread_('Philarmonia/violin/violin_Gs4_05_mezzo-forte_arco-normal.jpg'): can't open/read file: check file path/integrity\n",
      "[ WARN:0@21.930] global loadsave.cpp:248 findDecoder imread_('Philarmonia/violin/violin_Gs4_05_mezzo-piano_arco-normal.jpg'): can't open/read file: check file path/integrity\n",
      "[ WARN:0@21.930] global loadsave.cpp:248 findDecoder imread_('Philarmonia/violin/violin_Gs4_05_pianissimo_arco-normal.jpg'): can't open/read file: check file path/integrity\n",
      "[ WARN:0@21.930] global loadsave.cpp:248 findDecoder imread_('Philarmonia/violin/violin_Gs4_05_piano_arco-normal.jpg'): can't open/read file: check file path/integrity\n",
      "[ WARN:0@21.930] global loadsave.cpp:248 findDecoder imread_('Philarmonia/violin/violin_Gs4_15_forte_arco-normal.jpg'): can't open/read file: check file path/integrity\n",
      "[ WARN:0@21.931] global loadsave.cpp:248 findDecoder imread_('Philarmonia/violin/violin_Gs4_15_mezzo-forte_arco-normal.jpg'): can't open/read file: check file path/integrity\n",
      "[ WARN:0@21.931] global loadsave.cpp:248 findDecoder imread_('Philarmonia/violin/violin_Gs4_15_pianissimo_arco-normal.jpg'): can't open/read file: check file path/integrity\n",
      "[ WARN:0@21.931] global loadsave.cpp:248 findDecoder imread_('Philarmonia/violin/violin_Gs4_1_forte_arco-normal.jpg'): can't open/read file: check file path/integrity\n",
      "[ WARN:0@21.931] global loadsave.cpp:248 findDecoder imread_('Philarmonia/violin/violin_Gs4_1_fortissimo_arco-normal.jpg'): can't open/read file: check file path/integrity\n",
      "[ WARN:0@21.931] global loadsave.cpp:248 findDecoder imread_('Philarmonia/violin/violin_Gs4_1_mezzo-forte_arco-normal.jpg'): can't open/read file: check file path/integrity\n",
      "[ WARN:0@21.932] global loadsave.cpp:248 findDecoder imread_('Philarmonia/violin/violin_Gs4_1_pianissimo_arco-normal.jpg'): can't open/read file: check file path/integrity\n",
      "[ WARN:0@21.932] global loadsave.cpp:248 findDecoder imread_('Philarmonia/violin/violin_Gs4_phrase_forte_arco-martele.jpg'): can't open/read file: check file path/integrity\n",
      "[ WARN:0@21.932] global loadsave.cpp:248 findDecoder imread_('Philarmonia/violin/violin_Gs4_phrase_forte_arco-spiccato.jpg'): can't open/read file: check file path/integrity\n",
      "[ WARN:0@21.932] global loadsave.cpp:248 findDecoder imread_('Philarmonia/violin/violin_Gs4_phrase_forte_arco-staccato.jpg'): can't open/read file: check file path/integrity\n",
      "[ WARN:0@21.932] global loadsave.cpp:248 findDecoder imread_('Philarmonia/violin/violin_Gs4_phrase_mezzo-forte_arco-legato.jpg'): can't open/read file: check file path/integrity\n",
      "[ WARN:0@21.932] global loadsave.cpp:248 findDecoder imread_('Philarmonia/violin/violin_Gs4_phrase_mezzo-forte_arco-tenuto.jpg'): can't open/read file: check file path/integrity\n",
      "[ WARN:0@21.932] global loadsave.cpp:248 findDecoder imread_('Philarmonia/violin/violin_Gs4_phrase_mezzo-piano_arco-legato.jpg'): can't open/read file: check file path/integrity\n",
      "[ WARN:0@21.935] global loadsave.cpp:248 findDecoder imread_('Philarmonia/violin/violin_Gs4_very-long_pianissimo_arco-tremolo.jpg'): can't open/read file: check file path/integrity\n",
      "[ WARN:0@21.935] global loadsave.cpp:248 findDecoder imread_('Philarmonia/violin/violin_Gs5_025_forte_arco-normal.jpg'): can't open/read file: check file path/integrity\n",
      "[ WARN:0@21.935] global loadsave.cpp:248 findDecoder imread_('Philarmonia/violin/violin_Gs5_025_fortissimo_arco-normal.jpg'): can't open/read file: check file path/integrity\n",
      "[ WARN:0@21.935] global loadsave.cpp:248 findDecoder imread_('Philarmonia/violin/violin_Gs5_025_mezzo-forte_arco-normal.jpg'): can't open/read file: check file path/integrity\n",
      "[ WARN:0@21.935] global loadsave.cpp:248 findDecoder imread_('Philarmonia/violin/violin_Gs5_025_mezzo-forte_pizz-normal.jpg'): can't open/read file: check file path/integrity\n",
      "[ WARN:0@21.936] global loadsave.cpp:248 findDecoder imread_('Philarmonia/violin/violin_Gs5_025_mezzo-piano_arco-normal.jpg'): can't open/read file: check file path/integrity\n",
      "[ WARN:0@21.936] global loadsave.cpp:248 findDecoder imread_('Philarmonia/violin/violin_Gs5_025_pianissimo_arco-col-legno-battuto.jpg'): can't open/read file: check file path/integrity\n",
      "[ WARN:0@21.936] global loadsave.cpp:248 findDecoder imread_('Philarmonia/violin/violin_Gs5_025_pianissimo_arco-normal.jpg'): can't open/read file: check file path/integrity\n",
      "[ WARN:0@21.936] global loadsave.cpp:248 findDecoder imread_('Philarmonia/violin/violin_Gs5_025_piano_arco-col-legno-battuto.jpg'): can't open/read file: check file path/integrity\n",
      "[ WARN:0@21.936] global loadsave.cpp:248 findDecoder imread_('Philarmonia/violin/violin_Gs5_025_piano_arco-normal.jpg'): can't open/read file: check file path/integrity\n",
      "[ WARN:0@21.936] global loadsave.cpp:248 findDecoder imread_('Philarmonia/violin/violin_Gs5_025_piano_pizz-normal.jpg'): can't open/read file: check file path/integrity\n",
      "[ WARN:0@21.936] global loadsave.cpp:248 findDecoder imread_('Philarmonia/violin/violin_Gs5_05_forte_arco-normal.jpg'): can't open/read file: check file path/integrity\n",
      "[ WARN:0@21.937] global loadsave.cpp:248 findDecoder imread_('Philarmonia/violin/violin_Gs5_05_fortissimo_arco-au-talon.jpg'): can't open/read file: check file path/integrity\n",
      "[ WARN:0@21.937] global loadsave.cpp:248 findDecoder imread_('Philarmonia/violin/violin_Gs5_05_fortissimo_arco-normal.jpg'): can't open/read file: check file path/integrity\n",
      "[ WARN:0@21.937] global loadsave.cpp:248 findDecoder imread_('Philarmonia/violin/violin_Gs5_05_mezzo-forte_arco-col-legno-tratto.jpg'): can't open/read file: check file path/integrity\n",
      "[ WARN:0@21.937] global loadsave.cpp:248 findDecoder imread_('Philarmonia/violin/violin_Gs5_05_mezzo-forte_arco-normal.jpg'): can't open/read file: check file path/integrity\n",
      "[ WARN:0@21.938] global loadsave.cpp:248 findDecoder imread_('Philarmonia/violin/violin_Gs5_05_pianissimo_arco-normal.jpg'): can't open/read file: check file path/integrity\n",
      "[ WARN:0@21.938] global loadsave.cpp:248 findDecoder imread_('Philarmonia/violin/violin_Gs5_05_piano_arco-normal.jpg'): can't open/read file: check file path/integrity\n",
      "[ WARN:0@21.938] global loadsave.cpp:248 findDecoder imread_('Philarmonia/violin/violin_Gs5_15_forte_arco-normal.jpg'): can't open/read file: check file path/integrity\n",
      "[ WARN:0@21.938] global loadsave.cpp:248 findDecoder imread_('Philarmonia/violin/violin_Gs5_15_fortissimo_arco-normal.jpg'): can't open/read file: check file path/integrity\n",
      "[ WARN:0@21.939] global loadsave.cpp:248 findDecoder imread_('Philarmonia/violin/violin_Gs5_1_forte_arco-normal.jpg'): can't open/read file: check file path/integrity\n",
      "[ WARN:0@21.939] global loadsave.cpp:248 findDecoder imread_('Philarmonia/violin/violin_Gs5_1_forte_con-sord.jpg'): can't open/read file: check file path/integrity\n",
      "[ WARN:0@21.939] global loadsave.cpp:248 findDecoder imread_('Philarmonia/violin/violin_Gs5_1_fortissimo_arco-normal.jpg'): can't open/read file: check file path/integrity\n",
      "[ WARN:0@21.939] global loadsave.cpp:248 findDecoder imread_('Philarmonia/violin/violin_Gs5_1_mezzo-forte_arco-normal.jpg'): can't open/read file: check file path/integrity\n",
      "[ WARN:0@21.939] global loadsave.cpp:248 findDecoder imread_('Philarmonia/violin/violin_Gs5_1_mezzo-forte_artificial-harmonic.jpg'): can't open/read file: check file path/integrity\n",
      "[ WARN:0@21.940] global loadsave.cpp:248 findDecoder imread_('Philarmonia/violin/violin_Gs5_1_mezzo-forte_molto-vibrato.jpg'): can't open/read file: check file path/integrity\n",
      "[ WARN:0@21.940] global loadsave.cpp:248 findDecoder imread_('Philarmonia/violin/violin_Gs5_1_mezzo-piano_con-sord.jpg'): can't open/read file: check file path/integrity\n",
      "[ WARN:0@21.940] global loadsave.cpp:248 findDecoder imread_('Philarmonia/violin/violin_Gs5_1_mezzo-piano_non-vibrato.jpg'): can't open/read file: check file path/integrity\n",
      "[ WARN:0@21.940] global loadsave.cpp:248 findDecoder imread_('Philarmonia/violin/violin_Gs5_1_piano_arco-col-legno-tratto.jpg'): can't open/read file: check file path/integrity\n",
      "[ WARN:0@21.940] global loadsave.cpp:248 findDecoder imread_('Philarmonia/violin/violin_Gs5_1_piano_arco-normal.jpg'): can't open/read file: check file path/integrity\n",
      "[ WARN:0@21.940] global loadsave.cpp:248 findDecoder imread_('Philarmonia/violin/violin_Gs5_1_piano_arco-sul-ponticello.jpg'): can't open/read file: check file path/integrity\n",
      "[ WARN:0@21.940] global loadsave.cpp:248 findDecoder imread_('Philarmonia/violin/violin_Gs5_1_piano_arco-sul-tasto.jpg'): can't open/read file: check file path/integrity\n",
      "[ WARN:0@21.940] global loadsave.cpp:248 findDecoder imread_('Philarmonia/violin/violin_Gs5_long_forte_molto-vibrato.jpg'): can't open/read file: check file path/integrity\n",
      "[ WARN:0@21.940] global loadsave.cpp:248 findDecoder imread_('Philarmonia/violin/violin_Gs5_phrase_forte_arco-staccato.jpg'): can't open/read file: check file path/integrity\n",
      "[ WARN:0@21.941] global loadsave.cpp:248 findDecoder imread_('Philarmonia/violin/violin_Gs5_phrase_fortissimo_arco-tremolo.jpg'): can't open/read file: check file path/integrity\n",
      "[ WARN:0@21.941] global loadsave.cpp:248 findDecoder imread_('Philarmonia/violin/violin_Gs5_phrase_mezzo-forte_arco-glissando.jpg'): can't open/read file: check file path/integrity\n",
      "[ WARN:0@21.941] global loadsave.cpp:248 findDecoder imread_('Philarmonia/violin/violin_Gs5_phrase_mezzo-forte_arco-legato.jpg'): can't open/read file: check file path/integrity\n",
      "[ WARN:0@21.941] global loadsave.cpp:248 findDecoder imread_('Philarmonia/violin/violin_Gs5_phrase_piano_arco-punta-d'arco.jpg'): can't open/read file: check file path/integrity\n",
      "[ WARN:0@21.941] global loadsave.cpp:248 findDecoder imread_('Philarmonia/violin/violin_Gs6_025_forte_arco-normal.jpg'): can't open/read file: check file path/integrity\n",
      "[ WARN:0@21.941] global loadsave.cpp:248 findDecoder imread_('Philarmonia/violin/violin_Gs6_025_fortissimo_arco-normal.jpg'): can't open/read file: check file path/integrity\n",
      "[ WARN:0@21.941] global loadsave.cpp:248 findDecoder imread_('Philarmonia/violin/violin_Gs6_025_mezzo-forte_arco-normal.jpg'): can't open/read file: check file path/integrity\n",
      "[ WARN:0@21.941] global loadsave.cpp:248 findDecoder imread_('Philarmonia/violin/violin_Gs6_025_mezzo-piano_arco-normal.jpg'): can't open/read file: check file path/integrity\n",
      "[ WARN:0@21.941] global loadsave.cpp:248 findDecoder imread_('Philarmonia/violin/violin_Gs6_025_pianissimo_arco-col-legno-battuto.jpg'): can't open/read file: check file path/integrity\n",
      "[ WARN:0@21.942] global loadsave.cpp:248 findDecoder imread_('Philarmonia/violin/violin_Gs6_025_pianissimo_arco-normal.jpg'): can't open/read file: check file path/integrity\n",
      "[ WARN:0@21.942] global loadsave.cpp:248 findDecoder imread_('Philarmonia/violin/violin_Gs6_025_piano_arco-col-legno-battuto.jpg'): can't open/read file: check file path/integrity\n",
      "[ WARN:0@21.942] global loadsave.cpp:248 findDecoder imread_('Philarmonia/violin/violin_Gs6_025_piano_arco-normal.jpg'): can't open/read file: check file path/integrity\n",
      "[ WARN:0@21.942] global loadsave.cpp:248 findDecoder imread_('Philarmonia/violin/violin_Gs6_025_piano_pizz-normal.jpg'): can't open/read file: check file path/integrity\n",
      "[ WARN:0@21.943] global loadsave.cpp:248 findDecoder imread_('Philarmonia/violin/violin_Gs6_05_forte_arco-normal.jpg'): can't open/read file: check file path/integrity\n",
      "[ WARN:0@21.943] global loadsave.cpp:248 findDecoder imread_('Philarmonia/violin/violin_Gs6_05_fortissimo_arco-normal.jpg'): can't open/read file: check file path/integrity\n",
      "[ WARN:0@21.943] global loadsave.cpp:248 findDecoder imread_('Philarmonia/violin/violin_Gs6_05_mezzo-forte_arco-normal.jpg'): can't open/read file: check file path/integrity\n",
      "13681it [00:17, 766.44it/s][ WARN:0@21.944] global loadsave.cpp:248 findDecoder imread_('Philarmonia/violin/violin_Gs6_05_pianissimo_arco-normal.jpg'): can't open/read file: check file path/integrity\n",
      "[ WARN:0@21.944] global loadsave.cpp:248 findDecoder imread_('Philarmonia/violin/violin_Gs6_05_piano_arco-normal.jpg'): can't open/read file: check file path/integrity\n",
      "[ WARN:0@21.944] global loadsave.cpp:248 findDecoder imread_('Philarmonia/violin/violin_Gs6_15_forte_arco-normal.jpg'): can't open/read file: check file path/integrity\n",
      "[ WARN:0@21.945] global loadsave.cpp:248 findDecoder imread_('Philarmonia/violin/violin_Gs6_15_mezzo-forte_arco-normal.jpg'): can't open/read file: check file path/integrity\n",
      "[ WARN:0@21.945] global loadsave.cpp:248 findDecoder imread_('Philarmonia/violin/violin_Gs6_1_forte_arco-normal.jpg'): can't open/read file: check file path/integrity\n",
      "[ WARN:0@21.945] global loadsave.cpp:248 findDecoder imread_('Philarmonia/violin/violin_Gs6_1_fortissimo_arco-normal.jpg'): can't open/read file: check file path/integrity\n",
      "[ WARN:0@21.945] global loadsave.cpp:248 findDecoder imread_('Philarmonia/violin/violin_Gs6_1_mezzo-forte_arco-normal.jpg'): can't open/read file: check file path/integrity\n",
      "[ WARN:0@21.945] global loadsave.cpp:248 findDecoder imread_('Philarmonia/violin/violin_Gs6_1_mezzo-forte_artificial-harmonic.jpg'): can't open/read file: check file path/integrity\n",
      "[ WARN:0@21.945] global loadsave.cpp:248 findDecoder imread_('Philarmonia/violin/violin_Gs6_1_mezzo-forte_natural-harmonic.jpg'): can't open/read file: check file path/integrity\n",
      "[ WARN:0@21.945] global loadsave.cpp:248 findDecoder imread_('Philarmonia/violin/violin_Gs6_1_piano_arco-sul-tasto.jpg'): can't open/read file: check file path/integrity\n",
      "[ WARN:0@21.946] global loadsave.cpp:248 findDecoder imread_('Philarmonia/violin/violin_Gs6_1_piano_natural-harmonic.jpg'): can't open/read file: check file path/integrity\n",
      "[ WARN:0@21.946] global loadsave.cpp:248 findDecoder imread_('Philarmonia/violin/violin_Gs6_phrase_pianissimo_arco-normal.jpg'): can't open/read file: check file path/integrity\n",
      "[ WARN:0@21.946] global loadsave.cpp:248 findDecoder imread_('Philarmonia/violin/violin_Gs7_1_mezzo-forte_natural-harmonic.jpg'): can't open/read file: check file path/integrity\n",
      "\n"
     ]
    },
    {
     "name": "stdout",
     "output_type": "stream",
     "text": [
      "File error\n",
      "File error\n",
      "File error\n",
      "File error\n",
      "File error\n",
      "File error\n",
      "File error\n",
      "File error\n",
      "File error\n",
      "File error\n",
      "File error\n",
      "File error\n",
      "File error\n",
      "File error\n",
      "File error\n",
      "File error\n",
      "File error\n",
      "File error\n",
      "File error\n",
      "File error\n",
      "File error\n",
      "File error\n",
      "File error\n",
      "File error\n",
      "File error\n",
      "File error\n",
      "File error\n",
      "File error\n",
      "File error\n",
      "File error\n",
      "File error\n",
      "File error\n",
      "File error\n",
      "File error\n",
      "File error\n",
      "File error\n",
      "File error\n",
      "File error\n",
      "File error\n",
      "File error\n",
      "File error\n",
      "File error\n",
      "File error\n",
      "File error\n",
      "File error\n",
      "File error\n",
      "File error\n",
      "File error\n",
      "File error\n",
      "File error\n",
      "File error\n",
      "File error\n",
      "File error\n",
      "File error\n",
      "File error\n",
      "File error\n",
      "File error\n",
      "File error\n",
      "File error\n",
      "File error\n",
      "File error\n",
      "File error\n",
      "File error\n",
      "File error\n",
      "File error\n",
      "File error\n",
      "File error\n",
      "File error\n",
      "File error\n",
      "File error\n",
      "File error\n",
      "File error\n",
      "File error\n",
      "File error\n",
      "File error\n",
      "File error\n",
      "File error\n",
      "File error\n",
      "File error\n",
      "File error\n",
      "File error\n",
      "File error\n",
      "File error\n",
      "File error\n",
      "File error\n",
      "File error\n",
      "File error\n",
      "File error\n",
      "File error\n",
      "File error\n",
      "File error\n",
      "File error\n",
      "File error\n",
      "File error\n",
      "File error\n",
      "File error\n",
      "File error\n",
      "File error\n",
      "File error\n",
      "File error\n",
      "File error\n",
      "File error\n",
      "File error\n",
      "(13577, 130, 128, 3)\n",
      "(13577,)\n"
     ]
    }
   ],
   "source": [
    "X = []\n",
    "y = []\n",
    "\n",
    "df = pd.read_csv('philarmonia_complete_features.csv')\n",
    "dataset_path = \"Philarmonia\"\n",
    "for index, row in tqdm(df.iterrows()):\n",
    "    file_path = os.path.join(dataset_path + \"/\" + row[\"label\"], row[\"filename\"].split(\"\\\\\")[-1].split(\".\")[0] + \".jpg\").replace(\"\\\\\", \"/\")\n",
    "    try:\n",
    "        image_rgb_matrix = read_image(file_path)\n",
    "        image_rgb_matrix = image_rgb_matrix.astype('float32') / 255.0 # NORMALIZE RGB VALUES IN [0,1]\n",
    "        label = row[\"label\"]\n",
    "        X.append(image_rgb_matrix)\n",
    "        y.append(label)\n",
    "    except:\n",
    "        print(\"File error\")\n",
    "X = np.array(X)\n",
    "y = np.array(y)\n",
    "print(X.shape)\n",
    "print(y.shape)"
   ]
  },
  {
   "cell_type": "code",
   "execution_count": 5,
   "id": "6ab065d9-9664-48b6-84c1-ad44b44cdb3b",
   "metadata": {},
   "outputs": [
    {
     "name": "stdout",
     "output_type": "stream",
     "text": [
      "Label Mapping: {'banjo': 0, 'bass_clarinet': 1, 'bassoon': 2, 'cello': 3, 'clarinet': 4, 'contrabassoon': 5, 'cor_anglais': 6, 'double_bass': 7, 'flute': 8, 'french_horn': 9, 'guitar': 10, 'mandolin': 11, 'oboe': 12, 'percussion': 13, 'saxophone': 14, 'trombone': 15, 'trumpet': 16, 'tuba': 17, 'viola': 18, 'violin': 19}\n"
     ]
    }
   ],
   "source": [
    "labelencoder = LabelEncoder()\n",
    "y = labelencoder.fit_transform(y)\n",
    "len(labelencoder.classes_)\n",
    "\n",
    "# To see the mapping, you can create a dictionary using the classes_ attribute\n",
    "label_mapping = dict(zip(labelencoder.classes_, labelencoder.transform(labelencoder.classes_)))\n",
    "\n",
    "print(\"Label Mapping:\", label_mapping)"
   ]
  },
  {
   "cell_type": "code",
   "execution_count": 6,
   "id": "c4e77c31-9ea8-4dcc-9924-9e9168359e1c",
   "metadata": {},
   "outputs": [
    {
     "name": "stdout",
     "output_type": "stream",
     "text": [
      "(10861, 130, 128, 3)\n",
      "(10861,)\n",
      "(2716, 130, 128, 3)\n",
      "(2716,)\n"
     ]
    }
   ],
   "source": [
    "X_train, X_test, y_train, y_test = train_test_split(X, y, test_size=0.2)\n",
    "\n",
    "print(X_train.shape)\n",
    "print(y_train.shape)\n",
    "\n",
    "print(X_test.shape)\n",
    "print(y_test.shape)"
   ]
  },
  {
   "cell_type": "code",
   "execution_count": null,
   "id": "3ad22d74-1bc3-49c9-aeef-2eb47dcccd3f",
   "metadata": {},
   "outputs": [
    {
     "name": "stdout",
     "output_type": "stream",
     "text": [
      "Model: \"sequential\"\n",
      "_________________________________________________________________\n",
      " Layer (type)                Output Shape              Param #   \n",
      "=================================================================\n",
      " resnet50 (Functional)       (None, 5, 4, 2048)        23587712  \n",
      "                                                                 \n",
      " global_average_pooling2d (G  (None, 2048)             0         \n",
      " lobalAveragePooling2D)                                          \n",
      "                                                                 \n",
      " dense (Dense)               (None, 256)               524544    \n",
      "                                                                 \n",
      " dropout (Dropout)           (None, 256)               0         \n",
      "                                                                 \n",
      " dense_1 (Dense)             (None, 20)                5140      \n",
      "                                                                 \n",
      "=================================================================\n",
      "Total params: 24,117,396\n",
      "Trainable params: 24,064,276\n",
      "Non-trainable params: 53,120\n",
      "_________________________________________________________________\n"
     ]
    },
    {
     "name": "stderr",
     "output_type": "stream",
     "text": [
      "2024-05-31 23:08:27.747169: W tensorflow/tsl/framework/cpu_allocator_impl.cc:83] Allocation of 2168724480 exceeds 10% of free system memory.\n"
     ]
    },
    {
     "name": "stdout",
     "output_type": "stream",
     "text": [
      "Epoch 1/10\n"
     ]
    },
    {
     "name": "stderr",
     "output_type": "stream",
     "text": [
      "2024-05-31 23:08:47.552500: W tensorflow/tsl/framework/cpu_allocator_impl.cc:83] Allocation of 34078720 exceeds 10% of free system memory.\n",
      "2024-05-31 23:08:47.623572: W tensorflow/tsl/framework/cpu_allocator_impl.cc:83] Allocation of 34078720 exceeds 10% of free system memory.\n",
      "2024-05-31 23:08:47.663766: W tensorflow/tsl/framework/cpu_allocator_impl.cc:83] Allocation of 36225024 exceeds 10% of free system memory.\n",
      "2024-05-31 23:08:47.673640: W tensorflow/tsl/framework/cpu_allocator_impl.cc:83] Allocation of 34603008 exceeds 10% of free system memory.\n"
     ]
    },
    {
     "name": "stdout",
     "output_type": "stream",
     "text": [
      "340/340 [==============================] - 986s 3s/step - loss: 2.3369 - accuracy: 0.3196 - val_loss: 3.2448 - val_accuracy: 0.0582\n",
      "Epoch 2/10\n",
      "340/340 [==============================] - 953s 3s/step - loss: 1.0073 - accuracy: 0.7235 - val_loss: 3.0297 - val_accuracy: 0.1049\n",
      "Epoch 3/10\n",
      "340/340 [==============================] - 945s 3s/step - loss: 0.4497 - accuracy: 0.8817 - val_loss: 1.8680 - val_accuracy: 0.4628\n",
      "Epoch 4/10\n",
      "340/340 [==============================] - 936s 3s/step - loss: 0.2232 - accuracy: 0.9429 - val_loss: 0.1842 - val_accuracy: 0.9514\n",
      "Epoch 5/10\n",
      "340/340 [==============================] - 921s 3s/step - loss: 0.1232 - accuracy: 0.9713 - val_loss: 0.1222 - val_accuracy: 0.9683\n",
      "Epoch 6/10\n",
      "340/340 [==============================] - 934s 3s/step - loss: 0.0739 - accuracy: 0.9843 - val_loss: 0.1045 - val_accuracy: 0.9728\n",
      "Epoch 7/10\n",
      "340/340 [==============================] - 944s 3s/step - loss: 0.0478 - accuracy: 0.9908 - val_loss: 0.0855 - val_accuracy: 0.9768\n",
      "Epoch 8/10\n",
      "340/340 [==============================] - 998s 3s/step - loss: 0.0335 - accuracy: 0.9932 - val_loss: 0.0774 - val_accuracy: 0.9779\n",
      "Epoch 9/10\n",
      "340/340 [==============================] - 983s 3s/step - loss: 0.0206 - accuracy: 0.9953 - val_loss: 0.0764 - val_accuracy: 0.9775\n"
     ]
    }
   ],
   "source": [
    "base_model = ResNet50(weights='imagenet', include_top=False, input_shape=(130, 128, 3))\n",
    "for layer in base_model.layers:\n",
    "    layer.trainable = True\n",
    "\n",
    "model = models.Sequential([\n",
    "        base_model,\n",
    "        layers.GlobalAveragePooling2D(),\n",
    "        layers.Dense(256, activation='relu'),\n",
    "        layers.Dropout(0.3),\n",
    "        layers.Dense(20, activation='softmax')\n",
    "    ])\n",
    "optimizer = Adam(learning_rate=0.00001)\n",
    "model.summary()\n",
    "model.compile(optimizer=optimizer, loss='sparse_categorical_crossentropy', metrics=['accuracy'])\n",
    "history = model.fit(X_train, y_train, epochs=10, batch_size=32, validation_data=(X_test, y_test))\n",
    "model.save('philarmonia_full_resnet.h5')"
   ]
  },
  {
   "cell_type": "code",
   "execution_count": null,
   "id": "0ee3779e-5241-4792-976e-cf6cc766a473",
   "metadata": {
    "editable": true,
    "slideshow": {
     "slide_type": ""
    },
    "tags": []
   },
   "outputs": [
    {
     "data": {
      "image/png": "[encoded data removed]",
      "text/plain": [
       "<Figure size 640x480 with 1 Axes>"
      ]
     },
     "metadata": {},
     "output_type": "display_data"
    },
    {
     "data": {
      "image/png": "[encoded data removed]",
      "text/plain": [
       "<Figure size 640x480 with 1 Axes>"
      ]
     },
     "metadata": {},
     "output_type": "display_data"
    }
   ],
   "source": [
    "from matplotlib import pyplot as plt\n",
    "plt.figure(1)\n",
    "plt.plot(history.history[\"accuracy\"], label=\"train accuracy\")\n",
    "plt.plot(history.history[\"val_accuracy\"], label=\"validation accuracy\")\n",
    "plt.ylabel(\"Accuracy\")\n",
    "plt.xlabel(\"Epoch\")\n",
    "plt.legend(loc=\"lower right\")\n",
    "plt.title(\"Accuracy\")\n",
    "plt.savefig(\"phil_full_rn50_acc.png\")\n",
    "plt.show()\n",
    "\n",
    "plt.figure(2)\n",
    "plt.plot(history.history[\"loss\"], label=\"train error\")\n",
    "plt.plot(history.history[\"val_loss\"], label=\"validation error\")\n",
    "plt.ylabel(\"Error\")\n",
    "plt.xlabel(\"Epoch\")\n",
    "plt.legend(loc=\"upper right\")\n",
    "plt.title(\"Error\")\n",
    "plt.savefig(\"phil_full_rn50_loss.png\")\n",
    "plt.show()"
   ]
  },
  {
   "cell_type": "code",
   "execution_count": null,
   "id": "caf7a4f8-0695-4d6b-bcb7-54676bdcef9a",
   "metadata": {},
   "outputs": [],
   "source": []
  }
 ],
 "metadata": {
  "kernelspec": {
   "display_name": "Python 3 (ipykernel)",
   "language": "python",
   "name": "python3"
  },
  "language_info": {
   "codemirror_mode": {
    "name": "ipython",
    "version": 3
   },
   "file_extension": ".py",
   "mimetype": "text/x-python",
   "name": "python",
   "nbconvert_exporter": "python",
   "pygments_lexer": "ipython3",
   "version": "3.10.14"
  }
 },
 "nbformat": 4,
 "nbformat_minor": 5
}
