{
 "cells": [
  {
   "cell_type": "code",
   "execution_count": 1,
   "id": "bbee5f4b-5425-4819-aaf3-e325b5a040a9",
   "metadata": {},
   "outputs": [
    {
     "name": "stdout",
     "output_type": "stream",
     "text": [
      "Collecting opencv-python-headless\n",
      "  Using cached opencv_python_headless-4.9.0.80-cp37-abi3-manylinux_2_17_x86_64.manylinux2014_x86_64.whl.metadata (20 kB)\n",
      "Requirement already satisfied: numpy>=1.21.2 in /opt/conda/lib/python3.10/site-packages (from opencv-python-headless) (1.26.4)\n",
      "Using cached opencv_python_headless-4.9.0.80-cp37-abi3-manylinux_2_17_x86_64.manylinux2014_x86_64.whl (49.6 MB)\n",
      "Installing collected packages: opencv-python-headless\n",
      "Successfully installed opencv-python-headless-4.9.0.80\n"
     ]
    }
   ],
   "source": [
    "!pip install opencv-python-headless"
   ]
  },
  {
   "cell_type": "code",
   "execution_count": 2,
   "id": "2798bcc3-10d3-4296-9dee-e121b248e27b",
   "metadata": {},
   "outputs": [
    {
     "name": "stderr",
     "output_type": "stream",
     "text": [
      "2024-05-26 14:22:48.871890: I tensorflow/core/platform/cpu_feature_guard.cc:182] This TensorFlow binary is optimized to use available CPU instructions in performance-critical operations.\n",
      "To enable the following instructions: SSE4.1 SSE4.2 AVX AVX2 AVX512F FMA, in other operations, rebuild TensorFlow with the appropriate compiler flags.\n"
     ]
    }
   ],
   "source": [
    "import cv2\n",
    "import numpy as np\n",
    "import pandas as pd\n",
    "import tensorflow as tf\n",
    "from tensorflow.keras import models, layers\n",
    "from tensorflow.keras.applications import ResNet50\n",
    "from tensorflow.keras.optimizers import Adam\n",
    "from tqdm import tqdm\n",
    "from sklearn.preprocessing import LabelEncoder\n",
    "from sklearn.model_selection import train_test_split\n",
    "import os"
   ]
  },
  {
   "cell_type": "code",
   "execution_count": 3,
   "id": "e2083d06-ce38-4764-839d-d27ae3680c31",
   "metadata": {},
   "outputs": [],
   "source": [
    "def read_image(file_path):\n",
    "    rgb_image = cv2.imread(file_path)\n",
    "    return rgb_image"
   ]
  },
  {
   "cell_type": "code",
   "execution_count": 5,
   "id": "d20693e2-3eeb-4503-a396-3bb469cb257d",
   "metadata": {},
   "outputs": [
    {
     "name": "stderr",
     "output_type": "stream",
     "text": [
      "12060it [00:05, 2357.91it/s][ WARN:0@72.548] global loadsave.cpp:248 findDecoder imread_('Philarmonia/violin/violin_A3_1_forte_arco-normal.jpg'): can't open/read file: check file path/integrity\n",
      "12529it [00:05, 2147.00it/s]"
     ]
    },
    {
     "name": "stdout",
     "output_type": "stream",
     "text": [
      "File error\n"
     ]
    },
    {
     "name": "stderr",
     "output_type": "stream",
     "text": [
      "13400it [00:05, 2133.18it/s][ WARN:0@73.209] global loadsave.cpp:248 findDecoder imread_('Philarmonia/violin/violin_Gs3_025_pianissimo_arco-normal.jpg'): can't open/read file: check file path/integrity\n",
      "[ WARN:0@73.210] global loadsave.cpp:248 findDecoder imread_('Philarmonia/violin/violin_Gs3_025_piano_arco-col-legno-battuto.jpg'): can't open/read file: check file path/integrity\n",
      "[ WARN:0@73.210] global loadsave.cpp:248 findDecoder imread_('Philarmonia/violin/violin_Gs3_025_piano_arco-normal.jpg'): can't open/read file: check file path/integrity\n",
      "[ WARN:0@73.210] global loadsave.cpp:248 findDecoder imread_('Philarmonia/violin/violin_Gs3_025_piano_pizz-normal.jpg'): can't open/read file: check file path/integrity\n",
      "[ WARN:0@73.221] global loadsave.cpp:248 findDecoder imread_('Philarmonia/violin/violin_Gs3_phrase_forte_arco-martele.jpg'): can't open/read file: check file path/integrity\n",
      "[ WARN:0@73.221] global loadsave.cpp:248 findDecoder imread_('Philarmonia/violin/violin_Gs3_phrase_forte_arco-spiccato.jpg'): can't open/read file: check file path/integrity\n",
      "[ WARN:0@73.221] global loadsave.cpp:248 findDecoder imread_('Philarmonia/violin/violin_Gs3_phrase_fortissimo_arco-au-talon.jpg'): can't open/read file: check file path/integrity\n",
      "[ WARN:0@73.221] global loadsave.cpp:248 findDecoder imread_('Philarmonia/violin/violin_Gs3_phrase_mezzo-forte_arco-detache.jpg'): can't open/read file: check file path/integrity\n",
      "[ WARN:0@73.222] global loadsave.cpp:248 findDecoder imread_('Philarmonia/violin/violin_Gs3_phrase_mezzo-forte_arco-glissando.jpg'): can't open/read file: check file path/integrity\n",
      "[ WARN:0@73.222] global loadsave.cpp:248 findDecoder imread_('Philarmonia/violin/violin_Gs3_phrase_mezzo-forte_arco-tenuto.jpg'): can't open/read file: check file path/integrity\n",
      "[ WARN:0@73.222] global loadsave.cpp:248 findDecoder imread_('Philarmonia/violin/violin_Gs3_phrase_mezzo-piano_arco-detache.jpg'): can't open/read file: check file path/integrity\n",
      "[ WARN:0@73.222] global loadsave.cpp:248 findDecoder imread_('Philarmonia/violin/violin_Gs3_phrase_mezzo-piano_arco-legato.jpg'): can't open/read file: check file path/integrity\n",
      "[ WARN:0@73.222] global loadsave.cpp:248 findDecoder imread_('Philarmonia/violin/violin_Gs3_phrase_mezzo-piano_arco-major-trill.jpg'): can't open/read file: check file path/integrity\n",
      "[ WARN:0@73.222] global loadsave.cpp:248 findDecoder imread_('Philarmonia/violin/violin_Gs3_phrase_mezzo-piano_arco-tremolo.jpg'): can't open/read file: check file path/integrity\n",
      "[ WARN:0@73.222] global loadsave.cpp:248 findDecoder imread_('Philarmonia/violin/violin_Gs4_025_forte_arco-normal.jpg'): can't open/read file: check file path/integrity\n",
      "[ WARN:0@73.222] global loadsave.cpp:248 findDecoder imread_('Philarmonia/violin/violin_Gs4_025_fortissimo_arco-normal.jpg'): can't open/read file: check file path/integrity\n",
      "[ WARN:0@73.222] global loadsave.cpp:248 findDecoder imread_('Philarmonia/violin/violin_Gs4_025_mezzo-forte_arco-normal.jpg'): can't open/read file: check file path/integrity\n",
      "[ WARN:0@73.222] global loadsave.cpp:248 findDecoder imread_('Philarmonia/violin/violin_Gs4_025_mezzo-piano_arco-normal.jpg'): can't open/read file: check file path/integrity\n",
      "[ WARN:0@73.223] global loadsave.cpp:248 findDecoder imread_('Philarmonia/violin/violin_Gs4_025_pianissimo_arco-normal.jpg'): can't open/read file: check file path/integrity\n",
      "[ WARN:0@73.223] global loadsave.cpp:248 findDecoder imread_('Philarmonia/violin/violin_Gs4_025_piano_arco-normal.jpg'): can't open/read file: check file path/integrity\n",
      "[ WARN:0@73.223] global loadsave.cpp:248 findDecoder imread_('Philarmonia/violin/violin_Gs4_05_forte_arco-normal.jpg'): can't open/read file: check file path/integrity\n",
      "[ WARN:0@73.223] global loadsave.cpp:248 findDecoder imread_('Philarmonia/violin/violin_Gs4_05_fortissimo_arco-au-talon.jpg'): can't open/read file: check file path/integrity\n",
      "[ WARN:0@73.223] global loadsave.cpp:248 findDecoder imread_('Philarmonia/violin/violin_Gs4_05_fortissimo_arco-normal.jpg'): can't open/read file: check file path/integrity\n",
      "[ WARN:0@73.223] global loadsave.cpp:248 findDecoder imread_('Philarmonia/violin/violin_Gs4_05_mezzo-forte_arco-normal.jpg'): can't open/read file: check file path/integrity\n",
      "[ WARN:0@73.223] global loadsave.cpp:248 findDecoder imread_('Philarmonia/violin/violin_Gs4_05_mezzo-piano_arco-normal.jpg'): can't open/read file: check file path/integrity\n",
      "[ WARN:0@73.223] global loadsave.cpp:248 findDecoder imread_('Philarmonia/violin/violin_Gs4_05_pianissimo_arco-normal.jpg'): can't open/read file: check file path/integrity\n",
      "[ WARN:0@73.223] global loadsave.cpp:248 findDecoder imread_('Philarmonia/violin/violin_Gs4_05_piano_arco-normal.jpg'): can't open/read file: check file path/integrity\n",
      "[ WARN:0@73.224] global loadsave.cpp:248 findDecoder imread_('Philarmonia/violin/violin_Gs4_15_forte_arco-normal.jpg'): can't open/read file: check file path/integrity\n",
      "[ WARN:0@73.224] global loadsave.cpp:248 findDecoder imread_('Philarmonia/violin/violin_Gs4_15_mezzo-forte_arco-normal.jpg'): can't open/read file: check file path/integrity\n",
      "[ WARN:0@73.224] global loadsave.cpp:248 findDecoder imread_('Philarmonia/violin/violin_Gs4_15_pianissimo_arco-normal.jpg'): can't open/read file: check file path/integrity\n",
      "[ WARN:0@73.224] global loadsave.cpp:248 findDecoder imread_('Philarmonia/violin/violin_Gs4_1_forte_arco-normal.jpg'): can't open/read file: check file path/integrity\n",
      "[ WARN:0@73.224] global loadsave.cpp:248 findDecoder imread_('Philarmonia/violin/violin_Gs4_1_fortissimo_arco-normal.jpg'): can't open/read file: check file path/integrity\n",
      "[ WARN:0@73.224] global loadsave.cpp:248 findDecoder imread_('Philarmonia/violin/violin_Gs4_1_mezzo-forte_arco-normal.jpg'): can't open/read file: check file path/integrity\n",
      "[ WARN:0@73.224] global loadsave.cpp:248 findDecoder imread_('Philarmonia/violin/violin_Gs4_1_pianissimo_arco-normal.jpg'): can't open/read file: check file path/integrity\n",
      "[ WARN:0@73.224] global loadsave.cpp:248 findDecoder imread_('Philarmonia/violin/violin_Gs4_phrase_forte_arco-martele.jpg'): can't open/read file: check file path/integrity\n",
      "[ WARN:0@73.224] global loadsave.cpp:248 findDecoder imread_('Philarmonia/violin/violin_Gs4_phrase_forte_arco-spiccato.jpg'): can't open/read file: check file path/integrity\n",
      "[ WARN:0@73.224] global loadsave.cpp:248 findDecoder imread_('Philarmonia/violin/violin_Gs4_phrase_forte_arco-staccato.jpg'): can't open/read file: check file path/integrity\n",
      "[ WARN:0@73.225] global loadsave.cpp:248 findDecoder imread_('Philarmonia/violin/violin_Gs4_phrase_mezzo-forte_arco-legato.jpg'): can't open/read file: check file path/integrity\n",
      "[ WARN:0@73.225] global loadsave.cpp:248 findDecoder imread_('Philarmonia/violin/violin_Gs4_phrase_mezzo-forte_arco-tenuto.jpg'): can't open/read file: check file path/integrity\n",
      "[ WARN:0@73.225] global loadsave.cpp:248 findDecoder imread_('Philarmonia/violin/violin_Gs4_phrase_mezzo-piano_arco-legato.jpg'): can't open/read file: check file path/integrity\n",
      "[ WARN:0@73.225] global loadsave.cpp:248 findDecoder imread_('Philarmonia/violin/violin_Gs4_very-long_pianissimo_arco-tremolo.jpg'): can't open/read file: check file path/integrity\n",
      "[ WARN:0@73.226] global loadsave.cpp:248 findDecoder imread_('Philarmonia/violin/violin_Gs5_025_forte_arco-normal.jpg'): can't open/read file: check file path/integrity\n",
      "[ WARN:0@73.226] global loadsave.cpp:248 findDecoder imread_('Philarmonia/violin/violin_Gs5_025_fortissimo_arco-normal.jpg'): can't open/read file: check file path/integrity\n",
      "[ WARN:0@73.226] global loadsave.cpp:248 findDecoder imread_('Philarmonia/violin/violin_Gs5_025_mezzo-forte_arco-normal.jpg'): can't open/read file: check file path/integrity\n",
      "[ WARN:0@73.226] global loadsave.cpp:248 findDecoder imread_('Philarmonia/violin/violin_Gs5_025_mezzo-forte_pizz-normal.jpg'): can't open/read file: check file path/integrity\n",
      "[ WARN:0@73.226] global loadsave.cpp:248 findDecoder imread_('Philarmonia/violin/violin_Gs5_025_mezzo-piano_arco-normal.jpg'): can't open/read file: check file path/integrity\n",
      "[ WARN:0@73.227] global loadsave.cpp:248 findDecoder imread_('Philarmonia/violin/violin_Gs5_025_pianissimo_arco-col-legno-battuto.jpg'): can't open/read file: check file path/integrity\n",
      "[ WARN:0@73.227] global loadsave.cpp:248 findDecoder imread_('Philarmonia/violin/violin_Gs5_025_pianissimo_arco-normal.jpg'): can't open/read file: check file path/integrity\n",
      "[ WARN:0@73.227] global loadsave.cpp:248 findDecoder imread_('Philarmonia/violin/violin_Gs5_025_piano_arco-col-legno-battuto.jpg'): can't open/read file: check file path/integrity\n",
      "[ WARN:0@73.227] global loadsave.cpp:248 findDecoder imread_('Philarmonia/violin/violin_Gs5_025_piano_arco-normal.jpg'): can't open/read file: check file path/integrity\n",
      "[ WARN:0@73.227] global loadsave.cpp:248 findDecoder imread_('Philarmonia/violin/violin_Gs5_025_piano_pizz-normal.jpg'): can't open/read file: check file path/integrity\n",
      "[ WARN:0@73.227] global loadsave.cpp:248 findDecoder imread_('Philarmonia/violin/violin_Gs5_05_forte_arco-normal.jpg'): can't open/read file: check file path/integrity\n",
      "[ WARN:0@73.227] global loadsave.cpp:248 findDecoder imread_('Philarmonia/violin/violin_Gs5_05_fortissimo_arco-au-talon.jpg'): can't open/read file: check file path/integrity\n",
      "[ WARN:0@73.227] global loadsave.cpp:248 findDecoder imread_('Philarmonia/violin/violin_Gs5_05_fortissimo_arco-normal.jpg'): can't open/read file: check file path/integrity\n",
      "[ WARN:0@73.227] global loadsave.cpp:248 findDecoder imread_('Philarmonia/violin/violin_Gs5_05_mezzo-forte_arco-col-legno-tratto.jpg'): can't open/read file: check file path/integrity\n",
      "[ WARN:0@73.227] global loadsave.cpp:248 findDecoder imread_('Philarmonia/violin/violin_Gs5_05_mezzo-forte_arco-normal.jpg'): can't open/read file: check file path/integrity\n",
      "[ WARN:0@73.228] global loadsave.cpp:248 findDecoder imread_('Philarmonia/violin/violin_Gs5_05_pianissimo_arco-normal.jpg'): can't open/read file: check file path/integrity\n",
      "[ WARN:0@73.228] global loadsave.cpp:248 findDecoder imread_('Philarmonia/violin/violin_Gs5_05_piano_arco-normal.jpg'): can't open/read file: check file path/integrity\n",
      "[ WARN:0@73.228] global loadsave.cpp:248 findDecoder imread_('Philarmonia/violin/violin_Gs5_15_forte_arco-normal.jpg'): can't open/read file: check file path/integrity\n",
      "[ WARN:0@73.228] global loadsave.cpp:248 findDecoder imread_('Philarmonia/violin/violin_Gs5_15_fortissimo_arco-normal.jpg'): can't open/read file: check file path/integrity\n",
      "[ WARN:0@73.228] global loadsave.cpp:248 findDecoder imread_('Philarmonia/violin/violin_Gs5_1_forte_arco-normal.jpg'): can't open/read file: check file path/integrity\n",
      "[ WARN:0@73.228] global loadsave.cpp:248 findDecoder imread_('Philarmonia/violin/violin_Gs5_1_forte_con-sord.jpg'): can't open/read file: check file path/integrity\n",
      "[ WARN:0@73.228] global loadsave.cpp:248 findDecoder imread_('Philarmonia/violin/violin_Gs5_1_fortissimo_arco-normal.jpg'): can't open/read file: check file path/integrity\n",
      "[ WARN:0@73.228] global loadsave.cpp:248 findDecoder imread_('Philarmonia/violin/violin_Gs5_1_mezzo-forte_arco-normal.jpg'): can't open/read file: check file path/integrity\n",
      "[ WARN:0@73.228] global loadsave.cpp:248 findDecoder imread_('Philarmonia/violin/violin_Gs5_1_mezzo-forte_artificial-harmonic.jpg'): can't open/read file: check file path/integrity\n",
      "[ WARN:0@73.229] global loadsave.cpp:248 findDecoder imread_('Philarmonia/violin/violin_Gs5_1_mezzo-forte_molto-vibrato.jpg'): can't open/read file: check file path/integrity\n",
      "[ WARN:0@73.229] global loadsave.cpp:248 findDecoder imread_('Philarmonia/violin/violin_Gs5_1_mezzo-piano_con-sord.jpg'): can't open/read file: check file path/integrity\n",
      "[ WARN:0@73.229] global loadsave.cpp:248 findDecoder imread_('Philarmonia/violin/violin_Gs5_1_mezzo-piano_non-vibrato.jpg'): can't open/read file: check file path/integrity\n",
      "[ WARN:0@73.229] global loadsave.cpp:248 findDecoder imread_('Philarmonia/violin/violin_Gs5_1_piano_arco-col-legno-tratto.jpg'): can't open/read file: check file path/integrity\n",
      "[ WARN:0@73.229] global loadsave.cpp:248 findDecoder imread_('Philarmonia/violin/violin_Gs5_1_piano_arco-normal.jpg'): can't open/read file: check file path/integrity\n",
      "[ WARN:0@73.229] global loadsave.cpp:248 findDecoder imread_('Philarmonia/violin/violin_Gs5_1_piano_arco-sul-ponticello.jpg'): can't open/read file: check file path/integrity\n",
      "[ WARN:0@73.229] global loadsave.cpp:248 findDecoder imread_('Philarmonia/violin/violin_Gs5_1_piano_arco-sul-tasto.jpg'): can't open/read file: check file path/integrity\n",
      "[ WARN:0@73.229] global loadsave.cpp:248 findDecoder imread_('Philarmonia/violin/violin_Gs5_long_forte_molto-vibrato.jpg'): can't open/read file: check file path/integrity\n",
      "[ WARN:0@73.229] global loadsave.cpp:248 findDecoder imread_('Philarmonia/violin/violin_Gs5_phrase_forte_arco-staccato.jpg'): can't open/read file: check file path/integrity\n",
      "[ WARN:0@73.229] global loadsave.cpp:248 findDecoder imread_('Philarmonia/violin/violin_Gs5_phrase_fortissimo_arco-tremolo.jpg'): can't open/read file: check file path/integrity\n",
      "[ WARN:0@73.229] global loadsave.cpp:248 findDecoder imread_('Philarmonia/violin/violin_Gs5_phrase_mezzo-forte_arco-glissando.jpg'): can't open/read file: check file path/integrity\n",
      "[ WARN:0@73.229] global loadsave.cpp:248 findDecoder imread_('Philarmonia/violin/violin_Gs5_phrase_mezzo-forte_arco-legato.jpg'): can't open/read file: check file path/integrity\n",
      "[ WARN:0@73.230] global loadsave.cpp:248 findDecoder imread_('Philarmonia/violin/violin_Gs5_phrase_piano_arco-punta-d'arco.jpg'): can't open/read file: check file path/integrity\n",
      "[ WARN:0@73.230] global loadsave.cpp:248 findDecoder imread_('Philarmonia/violin/violin_Gs6_025_forte_arco-normal.jpg'): can't open/read file: check file path/integrity\n",
      "[ WARN:0@73.230] global loadsave.cpp:248 findDecoder imread_('Philarmonia/violin/violin_Gs6_025_fortissimo_arco-normal.jpg'): can't open/read file: check file path/integrity\n",
      "[ WARN:0@73.230] global loadsave.cpp:248 findDecoder imread_('Philarmonia/violin/violin_Gs6_025_mezzo-forte_arco-normal.jpg'): can't open/read file: check file path/integrity\n",
      "[ WARN:0@73.230] global loadsave.cpp:248 findDecoder imread_('Philarmonia/violin/violin_Gs6_025_mezzo-piano_arco-normal.jpg'): can't open/read file: check file path/integrity\n",
      "[ WARN:0@73.230] global loadsave.cpp:248 findDecoder imread_('Philarmonia/violin/violin_Gs6_025_pianissimo_arco-col-legno-battuto.jpg'): can't open/read file: check file path/integrity\n",
      "[ WARN:0@73.230] global loadsave.cpp:248 findDecoder imread_('Philarmonia/violin/violin_Gs6_025_pianissimo_arco-normal.jpg'): can't open/read file: check file path/integrity\n",
      "[ WARN:0@73.230] global loadsave.cpp:248 findDecoder imread_('Philarmonia/violin/violin_Gs6_025_piano_arco-col-legno-battuto.jpg'): can't open/read file: check file path/integrity\n",
      "[ WARN:0@73.230] global loadsave.cpp:248 findDecoder imread_('Philarmonia/violin/violin_Gs6_025_piano_arco-normal.jpg'): can't open/read file: check file path/integrity\n",
      "[ WARN:0@73.230] global loadsave.cpp:248 findDecoder imread_('Philarmonia/violin/violin_Gs6_025_piano_pizz-normal.jpg'): can't open/read file: check file path/integrity\n",
      "[ WARN:0@73.231] global loadsave.cpp:248 findDecoder imread_('Philarmonia/violin/violin_Gs6_05_forte_arco-normal.jpg'): can't open/read file: check file path/integrity\n",
      "[ WARN:0@73.231] global loadsave.cpp:248 findDecoder imread_('Philarmonia/violin/violin_Gs6_05_fortissimo_arco-normal.jpg'): can't open/read file: check file path/integrity\n",
      "[ WARN:0@73.231] global loadsave.cpp:248 findDecoder imread_('Philarmonia/violin/violin_Gs6_05_mezzo-forte_arco-normal.jpg'): can't open/read file: check file path/integrity\n",
      "[ WARN:0@73.232] global loadsave.cpp:248 findDecoder imread_('Philarmonia/violin/violin_Gs6_05_pianissimo_arco-normal.jpg'): can't open/read file: check file path/integrity\n",
      "[ WARN:0@73.232] global loadsave.cpp:248 findDecoder imread_('Philarmonia/violin/violin_Gs6_05_piano_arco-normal.jpg'): can't open/read file: check file path/integrity\n",
      "[ WARN:0@73.232] global loadsave.cpp:248 findDecoder imread_('Philarmonia/violin/violin_Gs6_15_forte_arco-normal.jpg'): can't open/read file: check file path/integrity\n",
      "[ WARN:0@73.232] global loadsave.cpp:248 findDecoder imread_('Philarmonia/violin/violin_Gs6_15_mezzo-forte_arco-normal.jpg'): can't open/read file: check file path/integrity\n",
      "[ WARN:0@73.233] global loadsave.cpp:248 findDecoder imread_('Philarmonia/violin/violin_Gs6_1_forte_arco-normal.jpg'): can't open/read file: check file path/integrity\n",
      "[ WARN:0@73.233] global loadsave.cpp:248 findDecoder imread_('Philarmonia/violin/violin_Gs6_1_fortissimo_arco-normal.jpg'): can't open/read file: check file path/integrity\n",
      "[ WARN:0@73.233] global loadsave.cpp:248 findDecoder imread_('Philarmonia/violin/violin_Gs6_1_mezzo-forte_arco-normal.jpg'): can't open/read file: check file path/integrity\n",
      "[ WARN:0@73.233] global loadsave.cpp:248 findDecoder imread_('Philarmonia/violin/violin_Gs6_1_mezzo-forte_artificial-harmonic.jpg'): can't open/read file: check file path/integrity\n",
      "[ WARN:0@73.233] global loadsave.cpp:248 findDecoder imread_('Philarmonia/violin/violin_Gs6_1_mezzo-forte_natural-harmonic.jpg'): can't open/read file: check file path/integrity\n",
      "[ WARN:0@73.233] global loadsave.cpp:248 findDecoder imread_('Philarmonia/violin/violin_Gs6_1_piano_arco-sul-tasto.jpg'): can't open/read file: check file path/integrity\n",
      "[ WARN:0@73.233] global loadsave.cpp:248 findDecoder imread_('Philarmonia/violin/violin_Gs6_1_piano_natural-harmonic.jpg'): can't open/read file: check file path/integrity\n",
      "[ WARN:0@73.233] global loadsave.cpp:248 findDecoder imread_('Philarmonia/violin/violin_Gs6_phrase_pianissimo_arco-normal.jpg'): can't open/read file: check file path/integrity\n",
      "13681it [00:05, 2282.96it/s][ WARN:0@73.233] global loadsave.cpp:248 findDecoder imread_('Philarmonia/violin/violin_Gs7_1_mezzo-forte_natural-harmonic.jpg'): can't open/read file: check file path/integrity\n",
      "\n"
     ]
    },
    {
     "name": "stdout",
     "output_type": "stream",
     "text": [
      "File error\n",
      "File error\n",
      "File error\n",
      "File error\n",
      "File error\n",
      "File error\n",
      "File error\n",
      "File error\n",
      "File error\n",
      "File error\n",
      "File error\n",
      "File error\n",
      "File error\n",
      "File error\n",
      "File error\n",
      "File error\n",
      "File error\n",
      "File error\n",
      "File error\n",
      "File error\n",
      "File error\n",
      "File error\n",
      "File error\n",
      "File error\n",
      "File error\n",
      "File error\n",
      "File error\n",
      "File error\n",
      "File error\n",
      "File error\n",
      "File error\n",
      "File error\n",
      "File error\n",
      "File error\n",
      "File error\n",
      "File error\n",
      "File error\n",
      "File error\n",
      "File error\n",
      "File error\n",
      "File error\n",
      "File error\n",
      "File error\n",
      "File error\n",
      "File error\n",
      "File error\n",
      "File error\n",
      "File error\n",
      "File error\n",
      "File error\n",
      "File error\n",
      "File error\n",
      "File error\n",
      "File error\n",
      "File error\n",
      "File error\n",
      "File error\n",
      "File error\n",
      "File error\n",
      "File error\n",
      "File error\n",
      "File error\n",
      "File error\n",
      "File error\n",
      "File error\n",
      "File error\n",
      "File error\n",
      "File error\n",
      "File error\n",
      "File error\n",
      "File error\n",
      "File error\n",
      "File error\n",
      "File error\n",
      "File error\n",
      "File error\n",
      "File error\n",
      "File error\n",
      "File error\n",
      "File error\n",
      "File error\n",
      "File error\n",
      "File error\n",
      "File error\n",
      "File error\n",
      "File error\n",
      "File error\n",
      "File error\n",
      "File error\n",
      "File error\n",
      "File error\n",
      "File error\n",
      "File error\n",
      "File error\n",
      "File error\n",
      "File error\n",
      "File error\n",
      "File error\n",
      "File error\n",
      "File error\n",
      "File error\n",
      "File error\n",
      "File error\n",
      "(13577, 130, 128, 3)\n",
      "(13577,)\n"
     ]
    }
   ],
   "source": [
    "X = []\n",
    "y = []\n",
    "\n",
    "df = pd.read_csv('philarmonia_complete_features.csv')\n",
    "dataset_path = \"Philarmonia\"\n",
    "for index, row in tqdm(df.iterrows()):\n",
    "    file_path = os.path.join(dataset_path + \"/\" + row[\"label\"], row[\"filename\"].split(\"\\\\\")[-1].split(\".\")[0] + \".jpg\").replace(\"\\\\\", \"/\")\n",
    "    try:\n",
    "        image_rgb_matrix = read_image(file_path)\n",
    "        image_rgb_matrix = image_rgb_matrix.astype('float32') / 255.0 # NORMALIZE RGB VALUES IN [0,1]\n",
    "        label = row[\"label\"]\n",
    "        X.append(image_rgb_matrix)\n",
    "        y.append(label)\n",
    "    except:\n",
    "        print(\"File error\")\n",
    "X = np.array(X)\n",
    "y = np.array(y)\n",
    "print(X.shape)\n",
    "print(y.shape)"
   ]
  },
  {
   "cell_type": "code",
   "execution_count": 6,
   "id": "a695d074-34ec-4e4a-8795-a99b26254a12",
   "metadata": {},
   "outputs": [
    {
     "name": "stdout",
     "output_type": "stream",
     "text": [
      "Label Mapping: {'banjo': 0, 'bass_clarinet': 1, 'bassoon': 2, 'cello': 3, 'clarinet': 4, 'contrabassoon': 5, 'cor_anglais': 6, 'double_bass': 7, 'flute': 8, 'french_horn': 9, 'guitar': 10, 'mandolin': 11, 'oboe': 12, 'percussion': 13, 'saxophone': 14, 'trombone': 15, 'trumpet': 16, 'tuba': 17, 'viola': 18, 'violin': 19}\n"
     ]
    }
   ],
   "source": [
    "labelencoder = LabelEncoder()\n",
    "y = labelencoder.fit_transform(y)\n",
    "len(labelencoder.classes_)\n",
    "\n",
    "# To see the mapping, you can create a dictionary using the classes_ attribute\n",
    "label_mapping = dict(zip(labelencoder.classes_, labelencoder.transform(labelencoder.classes_)))\n",
    "\n",
    "print(\"Label Mapping:\", label_mapping)"
   ]
  },
  {
   "cell_type": "code",
   "execution_count": 7,
   "id": "69da979d-03f3-44ef-b85c-0ff78aafe823",
   "metadata": {},
   "outputs": [
    {
     "name": "stdout",
     "output_type": "stream",
     "text": [
      "(10861, 130, 128, 3)\n",
      "(10861,)\n",
      "(2716, 130, 128, 3)\n",
      "(2716,)\n"
     ]
    }
   ],
   "source": [
    "X_train, X_test, y_train, y_test = train_test_split(X, y, test_size=0.2)\n",
    "\n",
    "print(X_train.shape)\n",
    "print(y_train.shape)\n",
    "\n",
    "print(X_test.shape)\n",
    "print(y_test.shape)"
   ]
  },
  {
   "cell_type": "code",
   "execution_count": 9,
   "id": "0e2cf0fc-3e99-4029-ad56-4434fd81632c",
   "metadata": {},
   "outputs": [
    {
     "name": "stdout",
     "output_type": "stream",
     "text": [
      "Model: \"sequential_1\"\n",
      "_________________________________________________________________\n",
      " Layer (type)                Output Shape              Param #   \n",
      "=================================================================\n",
      " resnet50 (Functional)       (None, 5, 4, 2048)        23587712  \n",
      "                                                                 \n",
      " global_average_pooling2d_1   (None, 2048)             0         \n",
      " (GlobalAveragePooling2D)                                        \n",
      "                                                                 \n",
      " dense_2 (Dense)             (None, 256)               524544    \n",
      "                                                                 \n",
      " dropout_1 (Dropout)         (None, 256)               0         \n",
      "                                                                 \n",
      " dense_3 (Dense)             (None, 20)                5140      \n",
      "                                                                 \n",
      "=================================================================\n",
      "Total params: 24,117,396\n",
      "Trainable params: 10,519,828\n",
      "Non-trainable params: 13,597,568\n",
      "_________________________________________________________________\n",
      "Epoch 1/10\n"
     ]
    },
    {
     "name": "stderr",
     "output_type": "stream",
     "text": [
      "2024-05-26 14:26:00.955836: W tensorflow/tsl/framework/cpu_allocator_impl.cc:83] Allocation of 2168724480 exceeds 10% of free system memory.\n"
     ]
    },
    {
     "name": "stdout",
     "output_type": "stream",
     "text": [
      "340/340 [==============================] - 294s 851ms/step - loss: 2.0019 - accuracy: 0.4147 - val_loss: 1.7935 - val_accuracy: 0.5692\n",
      "Epoch 2/10\n",
      "340/340 [==============================] - 261s 768ms/step - loss: 1.0352 - accuracy: 0.7198 - val_loss: 0.7657 - val_accuracy: 0.7934\n",
      "Epoch 3/10\n",
      "340/340 [==============================] - 254s 748ms/step - loss: 0.6243 - accuracy: 0.8374 - val_loss: 0.5015 - val_accuracy: 0.8667\n",
      "Epoch 4/10\n",
      "340/340 [==============================] - 255s 749ms/step - loss: 0.4267 - accuracy: 0.8931 - val_loss: 0.3731 - val_accuracy: 0.8943\n",
      "Epoch 5/10\n",
      "340/340 [==============================] - 266s 782ms/step - loss: 0.3321 - accuracy: 0.9135 - val_loss: 0.2809 - val_accuracy: 0.9168\n",
      "Epoch 6/10\n",
      "340/340 [==============================] - 267s 784ms/step - loss: 0.2524 - accuracy: 0.9359 - val_loss: 0.2176 - val_accuracy: 0.9426\n",
      "Epoch 7/10\n",
      "340/340 [==============================] - 265s 780ms/step - loss: 0.2027 - accuracy: 0.9479 - val_loss: 0.1918 - val_accuracy: 0.9477\n",
      "Epoch 8/10\n",
      "340/340 [==============================] - 261s 768ms/step - loss: 0.1705 - accuracy: 0.9543 - val_loss: 0.1853 - val_accuracy: 0.9499\n",
      "Epoch 9/10\n",
      "340/340 [==============================] - 264s 776ms/step - loss: 0.1462 - accuracy: 0.9623 - val_loss: 0.1750 - val_accuracy: 0.9477\n",
      "Epoch 10/10\n",
      "340/340 [==============================] - 267s 786ms/step - loss: 0.1332 - accuracy: 0.9634 - val_loss: 0.2724 - val_accuracy: 0.9205\n"
     ]
    }
   ],
   "source": [
    "base_model = ResNet50(weights='imagenet', include_top=False, input_shape=(130, 128, 3))\n",
    "for layer in base_model.layers:\n",
    "    layer.trainable = False\n",
    "for layer in base_model.layers[-25:]:\n",
    "    layer.trainable = True\n",
    "\n",
    "model = models.Sequential([\n",
    "        base_model,\n",
    "        layers.GlobalAveragePooling2D(),\n",
    "        layers.Dense(256, activation='relu'),\n",
    "        layers.Dropout(0.3),\n",
    "        layers.Dense(20, activation='softmax')\n",
    "    ])\n",
    "optimizer = Adam(learning_rate=0.00001)\n",
    "model.summary()\n",
    "model.compile(optimizer=optimizer, loss='sparse_categorical_crossentropy', metrics=['accuracy'])\n",
    "history = model.fit(X_train, y_train, epochs=10, batch_size=32, validation_data=(X_test, y_test))\n",
    "model.save('philarmonia_resnet.h5')"
   ]
  },
  {
   "cell_type": "code",
   "execution_count": 11,
   "id": "b8ef8964-fa57-47f0-940c-1e2a8e9007ce",
   "metadata": {},
   "outputs": [
    {
     "data": {
      "image/png": "[encoded data removed]",
      "text/plain": [
       "<Figure size 640x480 with 1 Axes>"
      ]
     },
     "metadata": {},
     "output_type": "display_data"
    },
    {
     "data": {
      "image/png": "[encoded data removed]",
      "text/plain": [
       "<Figure size 640x480 with 1 Axes>"
      ]
     },
     "metadata": {},
     "output_type": "display_data"
    }
   ],
   "source": [
    "from matplotlib import pyplot as plt\n",
    "plt.figure(1)\n",
    "plt.plot(history.history[\"accuracy\"], label=\"train accuracy\")\n",
    "plt.plot(history.history[\"val_accuracy\"], label=\"validation accuracy\")\n",
    "plt.ylabel(\"Accuracy\")\n",
    "plt.xlabel(\"Epoch\")\n",
    "plt.legend(loc=\"lower right\")\n",
    "plt.title(\"Accuracy\")\n",
    "plt.savefig(\"phil_rn50_acc.png\")\n",
    "plt.show()\n",
    "\n",
    "plt.figure(2)\n",
    "plt.plot(history.history[\"loss\"], label=\"train error\")\n",
    "plt.plot(history.history[\"val_loss\"], label=\"validation error\")\n",
    "plt.ylabel(\"Error\")\n",
    "plt.xlabel(\"Epoch\")\n",
    "plt.legend(loc=\"upper right\")\n",
    "plt.title(\"Error\")\n",
    "plt.savefig(\"phil_rn50_loss.png\")\n",
    "plt.show()"
   ]
  },
  {
   "cell_type": "code",
   "execution_count": null,
   "id": "ca33b98e-c520-4f5b-9b83-aeaad1cd9f64",
   "metadata": {},
   "outputs": [],
   "source": []
  }
 ],
 "metadata": {
  "kernelspec": {
   "display_name": "Python 3 (ipykernel)",
   "language": "python",
   "name": "python3"
  },
  "language_info": {
   "codemirror_mode": {
    "name": "ipython",
    "version": 3
   },
   "file_extension": ".py",
   "mimetype": "text/x-python",
   "name": "python",
   "nbconvert_exporter": "python",
   "pygments_lexer": "ipython3",
   "version": "3.10.14"
  }
 },
 "nbformat": 4,
 "nbformat_minor": 5
}
